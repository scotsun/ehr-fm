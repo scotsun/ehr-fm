{
 "cells": [
  {
   "cell_type": "code",
   "execution_count": 1,
   "id": "f3c3cb80",
   "metadata": {},
   "outputs": [],
   "source": [
    "import torch\n",
    "import torch.nn.functional as F\n",
    "from src.layer import TransformerBlock, HierarchicalTransformerBlock\n",
    "\n",
    "%load_ext autoreload\n",
    "%autoreload 2"
   ]
  },
  {
   "cell_type": "code",
   "execution_count": null,
   "id": "124780de",
   "metadata": {},
   "outputs": [],
   "source": [
    "768 * 4 * 2/3\n",
    "# d_ff = d_model * 4 * 2/3"
   ]
  },
  {
   "cell_type": "code",
   "execution_count": null,
   "id": "752a5d16",
   "metadata": {},
   "outputs": [],
   "source": [
    "768 / 8\n",
    "# d_k = d_model / h"
   ]
  },
  {
   "cell_type": "markdown",
   "id": "93c61291",
   "metadata": {},
   "source": [
    "#### test transformer block"
   ]
  },
  {
   "cell_type": "code",
   "execution_count": null,
   "id": "15807b9a",
   "metadata": {},
   "outputs": [],
   "source": [
    "encoder = TransformerBlock(\n",
    "    d_model=768,\n",
    "    d_ff=2048,\n",
    "    h=12,\n",
    "    dropout=0,\n",
    "    norm_type=\"layer\",\n",
    "    ffn_type=\"swiglu\",\n",
    ")"
   ]
  },
  {
   "cell_type": "code",
   "execution_count": null,
   "id": "ef6be3bd",
   "metadata": {},
   "outputs": [],
   "source": [
    "encoder = encoder.to(\"cuda\")\n",
    "encoder"
   ]
  },
  {
   "cell_type": "code",
   "execution_count": null,
   "id": "d5615d2a",
   "metadata": {},
   "outputs": [],
   "source": [
    "inputs = torch.randn(2, 128, 512).to(\"cuda\")\n",
    "masks = torch.ones(2, 128).to(\"cuda\")"
   ]
  },
  {
   "cell_type": "code",
   "execution_count": null,
   "id": "60add3e6",
   "metadata": {},
   "outputs": [],
   "source": [
    "encoder(inputs, masks).shape"
   ]
  },
  {
   "cell_type": "markdown",
   "id": "db7eea7e",
   "metadata": {},
   "source": [
    "#### test hierarchical transformer block"
   ]
  },
  {
   "cell_type": "code",
   "execution_count": 104,
   "id": "f7e6caee",
   "metadata": {},
   "outputs": [],
   "source": [
    "hat_block = HierarchicalTransformerBlock(\n",
    "    d_model=512,\n",
    "    d_ff=1024,\n",
    "    h=4,\n",
    "    dropout=0,\n",
    "    norm_type=\"layer\",\n",
    "    ffn_type=\"swiglu\",\n",
    ").cuda()"
   ]
  },
  {
   "cell_type": "code",
   "execution_count": 105,
   "id": "8f37e48a",
   "metadata": {},
   "outputs": [
    {
     "data": {
      "text/plain": [
       "5.250048"
      ]
     },
     "execution_count": 105,
     "metadata": {},
     "output_type": "execute_result"
    }
   ],
   "source": [
    "def count_parameters(model):\n",
    "    return sum(p.numel() for p in model.parameters() if p.requires_grad)\n",
    "\n",
    "count_parameters(hat_block) / 1e6"
   ]
  },
  {
   "cell_type": "code",
   "execution_count": 106,
   "id": "763948be",
   "metadata": {},
   "outputs": [
    {
     "data": {
      "text/plain": [
       "41.74"
      ]
     },
     "execution_count": 106,
     "metadata": {},
     "output_type": "execute_result"
    }
   ],
   "source": [
    "(2e4 * 512 + 5.25e6 * 6) / 1e6\n"
   ]
  },
  {
   "cell_type": "code",
   "execution_count": 3,
   "id": "c77a92b8",
   "metadata": {},
   "outputs": [],
   "source": [
    "seg_hidden_state = torch.randn(32, 32, 128, 768).cuda()\n",
    "token_mask = torch.rand(32, 32, 128).bernoulli().cuda()\n",
    "seg_mask = torch.rand(32, 32).bernoulli().cuda()\n"
   ]
  },
  {
   "cell_type": "code",
   "execution_count": 4,
   "id": "aa07351b",
   "metadata": {},
   "outputs": [
    {
     "data": {
      "text/plain": [
       "torch.Size([32, 32, 128, 768])"
      ]
     },
     "execution_count": 4,
     "metadata": {},
     "output_type": "execute_result"
    }
   ],
   "source": [
    "hat_block(seg_hidden_state, token_mask, seg_mask).shape"
   ]
  },
  {
   "cell_type": "markdown",
   "id": "a23a84a1",
   "metadata": {},
   "source": [
    "#### RoPE"
   ]
  },
  {
   "cell_type": "code",
   "execution_count": null,
   "id": "aa367332",
   "metadata": {},
   "outputs": [],
   "source": [
    "from src.layer import RoPE\n",
    "\n",
    "rope = RoPE(d=256)\n",
    "x = torch.randn(2, 12, 32, 256)"
   ]
  },
  {
   "cell_type": "code",
   "execution_count": null,
   "id": "a4f5b27d",
   "metadata": {},
   "outputs": [],
   "source": [
    "rope(x).shape"
   ]
  },
  {
   "cell_type": "markdown",
   "id": "ad83ab07",
   "metadata": {},
   "source": [
    "### test model"
   ]
  },
  {
   "cell_type": "code",
   "execution_count": 2,
   "id": "d7b0d066",
   "metadata": {},
   "outputs": [],
   "source": [
    "from src.fm import FMConfig, FMBase"
   ]
  },
  {
   "cell_type": "code",
   "execution_count": 3,
   "id": "69381ef6",
   "metadata": {},
   "outputs": [
    {
     "data": {
      "text/plain": [
       "{'pad_token_id': 0,\n",
       " 'transformers_version': '4.55.2',\n",
       " 'lr': 1e-05,\n",
       " 'batch_size': 8,\n",
       " 'vocab_size': 15000,\n",
       " 'd_model': 512,\n",
       " 'n_blocks': 6,\n",
       " 'n_heads': 8,\n",
       " 'd_ff': 1024,\n",
       " 'dropout': 0.1,\n",
       " 'norm_type': 'layer',\n",
       " 'ffn_type': 'swiglu',\n",
       " 'weight_tying': False,\n",
       " 'attn_backend': 'base',\n",
       " 'model_type': 'fm'}"
      ]
     },
     "execution_count": 3,
     "metadata": {},
     "output_type": "execute_result"
    }
   ],
   "source": [
    "cfg = FMConfig(d_model=512, n_heads=8, d_ff=1024, dropout=0.1,\n",
    "               **{\"lr\": 1e-5, \"batch_size\": 8})\n",
    "model = FMBase(cfg).to(\"cuda\")\n",
    "cfg.to_diff_dict()"
   ]
  },
  {
   "cell_type": "markdown",
   "id": "bb59033b",
   "metadata": {},
   "source": [
    "#### simcse"
   ]
  },
  {
   "cell_type": "code",
   "execution_count": 8,
   "id": "e08b361b",
   "metadata": {},
   "outputs": [],
   "source": [
    "optimizer = torch.optim.AdamW(model.parameters())"
   ]
  },
  {
   "cell_type": "code",
   "execution_count": 9,
   "id": "7409459e",
   "metadata": {},
   "outputs": [],
   "source": [
    "from src.loss import SimCSE\n",
    "from src.utils.data_utils import random_masking\n",
    "from tokenizers import Tokenizer"
   ]
  },
  {
   "cell_type": "code",
   "execution_count": 10,
   "id": "c4511a4f",
   "metadata": {},
   "outputs": [],
   "source": [
    "input_ids = torch.randint(0, 15000, (2, 2, 16)).to(\"cuda\")\n",
    "attention_mask = torch.full(input_ids.shape, True).to(\"cuda\")\n",
    "segment_attention_mask = torch.full((2, 2), True).to(\"cuda\")\n"
   ]
  },
  {
   "cell_type": "code",
   "execution_count": 11,
   "id": "99948a11",
   "metadata": {},
   "outputs": [],
   "source": [
    "tk = Tokenizer.from_file('./test.json')"
   ]
  },
  {
   "cell_type": "code",
   "execution_count": 13,
   "id": "e65399c3",
   "metadata": {},
   "outputs": [],
   "source": [
    "masked_input_ids, labels = random_masking(input_ids, tk)\n",
    "logits = model(\n",
    "    input_ids=masked_input_ids,\n",
    "    attention_mask=attention_mask,\n",
    "    segment_attention_mask=segment_attention_mask,\n",
    ")\n",
    "\n",
    "loss = torch.nn.CrossEntropyLoss(ignore_index=-100)(logits.view(-1, logits.size(-1)), labels.view(-1))\n",
    "loss.backward()\n",
    "optimizer.step()"
   ]
  },
  {
   "cell_type": "code",
   "execution_count": 14,
   "id": "e7a8492a",
   "metadata": {},
   "outputs": [],
   "source": [
    "optimizer.zero_grad()"
   ]
  },
  {
   "cell_type": "code",
   "execution_count": 16,
   "id": "88e369c3",
   "metadata": {},
   "outputs": [],
   "source": [
    "simcse = SimCSE(model, temperature=1)"
   ]
  },
  {
   "cell_type": "code",
   "execution_count": 19,
   "id": "af2bbe3d",
   "metadata": {},
   "outputs": [
    {
     "name": "stdout",
     "output_type": "stream",
     "text": [
      "tensor([[[-1.3865,  1.4914, -0.5007,  ...,  0.9131,  1.0111,  2.9045],\n",
      "         [-1.9676,  3.1304, -0.4825,  ..., -0.5632,  1.6516,  3.4589]],\n",
      "\n",
      "        [[-1.1420,  1.7328,  0.4275,  ..., -1.5038,  2.2406,  3.0776],\n",
      "         [ 0.3998, -1.7918,  2.2506,  ..., -0.4982, -1.9180,  0.6739]]],\n",
      "       device='cuda:0', grad_fn=<SliceBackward0>)\n",
      "tensor([[[-0.4825,  3.0431,  0.5561,  ...,  0.4529,  1.8380,  5.0330],\n",
      "         [-2.7726,  2.9079, -0.1113,  ...,  0.4662,  1.5168,  4.2401]],\n",
      "\n",
      "        [[-1.0057,  1.0679,  0.2046,  ..., -0.8703,  2.2319,  2.3849],\n",
      "         [ 0.7065, -3.0003,  1.0444,  ..., -1.4253, -2.3259,  1.7178]]],\n",
      "       device='cuda:0', grad_fn=<SliceBackward0>)\n"
     ]
    }
   ],
   "source": [
    "masked_input_ids, labels = random_masking(input_ids, tk)\n",
    "logits = model(\n",
    "    input_ids=masked_input_ids,\n",
    "    attention_mask=attention_mask,\n",
    "    segment_attention_mask=segment_attention_mask,\n",
    ")\n",
    "\n",
    "mlm_loss = torch.nn.CrossEntropyLoss(ignore_index=-100)(logits.view(-1, logits.size(-1)), labels.view(-1))\n",
    "simcse_loss = simcse(input_ids, attention_mask, segment_attention_mask)\n",
    "(mlm_loss + simcse_loss).backward()\n",
    "optimizer.step()\n",
    "\n"
   ]
  },
  {
   "cell_type": "code",
   "execution_count": 18,
   "id": "22170555",
   "metadata": {},
   "outputs": [
    {
     "data": {
      "text/plain": [
       "tensor(1.7569, device='cuda:0', grad_fn=<NllLossBackward0>)"
      ]
     },
     "execution_count": 18,
     "metadata": {},
     "output_type": "execute_result"
    }
   ],
   "source": [
    "simcse_loss"
   ]
  },
  {
   "cell_type": "code",
   "execution_count": 20,
   "id": "0b194091",
   "metadata": {},
   "outputs": [
    {
     "data": {
      "text/plain": [
       "True"
      ]
     },
     "execution_count": 20,
     "metadata": {},
     "output_type": "execute_result"
    }
   ],
   "source": [
    "d = {'a': 1, 'b': 2}\n",
    "'a' in d"
   ]
  },
  {
   "cell_type": "code",
   "execution_count": null,
   "id": "e8e5bbf1",
   "metadata": {},
   "outputs": [],
   "source": []
  }
 ],
 "metadata": {
  "kernelspec": {
   "display_name": "research-new",
   "language": "python",
   "name": "python3"
  },
  "language_info": {
   "codemirror_mode": {
    "name": "ipython",
    "version": 3
   },
   "file_extension": ".py",
   "mimetype": "text/x-python",
   "name": "python",
   "nbconvert_exporter": "python",
   "pygments_lexer": "ipython3",
   "version": "3.12.11"
  }
 },
 "nbformat": 4,
 "nbformat_minor": 5
}
