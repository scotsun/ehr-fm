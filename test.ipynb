{
 "cells": [
  {
   "cell_type": "code",
   "execution_count": 1,
   "id": "f3c3cb80",
   "metadata": {},
   "outputs": [],
   "source": [
    "import torch\n",
    "import torch.nn.functional as F\n",
    "from layer import TransformerBlock, HierarchicalTransformerBlock\n",
    "\n",
    "%load_ext autoreload\n",
    "%autoreload 2"
   ]
  },
  {
   "cell_type": "code",
   "execution_count": null,
   "id": "124780de",
   "metadata": {},
   "outputs": [
    {
     "data": {
      "text/plain": [
       "2048.0"
      ]
     },
     "execution_count": 8,
     "metadata": {},
     "output_type": "execute_result"
    }
   ],
   "source": [
    "768 * 4 * 2/3\n",
    "# d_ff = d_model * 4 * 2/3"
   ]
  },
  {
   "cell_type": "code",
   "execution_count": null,
   "id": "752a5d16",
   "metadata": {},
   "outputs": [
    {
     "data": {
      "text/plain": [
       "96.0"
      ]
     },
     "execution_count": 10,
     "metadata": {},
     "output_type": "execute_result"
    }
   ],
   "source": [
    "768 / 8\n",
    "# d_k = d_model / h"
   ]
  },
  {
   "cell_type": "markdown",
   "id": "93c61291",
   "metadata": {},
   "source": [
    "#### test transformer block"
   ]
  },
  {
   "cell_type": "code",
   "execution_count": 2,
   "id": "15807b9a",
   "metadata": {},
   "outputs": [],
   "source": [
    "encoder = TransformerBlock(\n",
    "    d_model=512,\n",
    "    d_ff=1280,\n",
    "    h=8,\n",
    "    dropout=0,\n",
    "    norm_type=\"layer\",\n",
    "    ffn_type=\"swiglu\",\n",
    ")"
   ]
  },
  {
   "cell_type": "code",
   "execution_count": 3,
   "id": "ef6be3bd",
   "metadata": {},
   "outputs": [
    {
     "data": {
      "text/plain": [
       "TransformerBlock(\n",
       "  (self_attn_block): MultiHeadAttentionBlock(\n",
       "    (w_q): Linear(in_features=512, out_features=512, bias=False)\n",
       "    (w_k): Linear(in_features=512, out_features=512, bias=False)\n",
       "    (w_v): Linear(in_features=512, out_features=512, bias=False)\n",
       "    (w_o): Linear(in_features=512, out_features=512, bias=False)\n",
       "  )\n",
       "  (ffn_block): FFNSwiGLUBlock(\n",
       "    (linear_gate): Linear(in_features=512, out_features=1280, bias=True)\n",
       "    (linear_up): Linear(in_features=512, out_features=1280, bias=True)\n",
       "    (linear_down): Linear(in_features=1280, out_features=512, bias=True)\n",
       "  )\n",
       "  (residual_connection): ResidualConnection(\n",
       "    (dropout): Dropout(p=0, inplace=False)\n",
       "    (norm): LayerNorm((512,), eps=1e-05, elementwise_affine=True)\n",
       "  )\n",
       ")"
      ]
     },
     "execution_count": 3,
     "metadata": {},
     "output_type": "execute_result"
    }
   ],
   "source": [
    "encoder = encoder.to(\"cuda\")\n",
    "encoder"
   ]
  },
  {
   "cell_type": "code",
   "execution_count": 4,
   "id": "d5615d2a",
   "metadata": {},
   "outputs": [],
   "source": [
    "inputs = torch.randn(2, 128, 512).to(\"cuda\")\n",
    "masks = torch.ones(2, 128).to(\"cuda\")"
   ]
  },
  {
   "cell_type": "code",
   "execution_count": 5,
   "id": "60add3e6",
   "metadata": {},
   "outputs": [
    {
     "data": {
      "text/plain": [
       "torch.Size([2, 128, 512])"
      ]
     },
     "execution_count": 5,
     "metadata": {},
     "output_type": "execute_result"
    }
   ],
   "source": [
    "encoder(inputs, masks).shape"
   ]
  },
  {
   "cell_type": "markdown",
   "id": "db7eea7e",
   "metadata": {},
   "source": [
    "#### test hierarchical transformer block"
   ]
  },
  {
   "cell_type": "code",
   "execution_count": 2,
   "id": "f7e6caee",
   "metadata": {},
   "outputs": [],
   "source": [
    "hat_block = HierarchicalTransformerBlock(\n",
    "    d_model=768,\n",
    "    d_ff=2048,\n",
    "    h=8,\n",
    "    dropout=0,\n",
    "    norm_type=\"layer\",\n",
    "    ffn_type=\"gelu\",\n",
    ").cuda()"
   ]
  },
  {
   "cell_type": "code",
   "execution_count": 3,
   "id": "8f37e48a",
   "metadata": {},
   "outputs": [
    {
     "data": {
      "text/plain": [
       "11.018752"
      ]
     },
     "execution_count": 3,
     "metadata": {},
     "output_type": "execute_result"
    }
   ],
   "source": [
    "def count_parameters(model):\n",
    "    return sum(p.numel() for p in model.parameters() if p.requires_grad)\n",
    "\n",
    "count_parameters(hat_block) / 1e6"
   ]
  },
  {
   "cell_type": "code",
   "execution_count": 4,
   "id": "763948be",
   "metadata": {},
   "outputs": [
    {
     "data": {
      "text/plain": [
       "147.36"
      ]
     },
     "execution_count": 4,
     "metadata": {},
     "output_type": "execute_result"
    }
   ],
   "source": [
    "(2e4 * 768 + 11e6 * 12) / 1e6"
   ]
  },
  {
   "cell_type": "code",
   "execution_count": 3,
   "id": "c77a92b8",
   "metadata": {},
   "outputs": [],
   "source": [
    "seg_hidden_state = torch.randn(64, 32, 128, 768).cuda()\n",
    "token_mask = torch.rand(64, 32, 128).bernoulli().cuda()\n",
    "seg_mask = torch.rand(64, 32).bernoulli().cuda()\n"
   ]
  },
  {
   "cell_type": "code",
   "execution_count": 4,
   "id": "aa07351b",
   "metadata": {},
   "outputs": [
    {
     "data": {
      "text/plain": [
       "torch.Size([64, 32, 128, 768])"
      ]
     },
     "execution_count": 4,
     "metadata": {},
     "output_type": "execute_result"
    }
   ],
   "source": [
    "hat_block(seg_hidden_state, token_mask, seg_mask).shape"
   ]
  },
  {
   "cell_type": "markdown",
   "id": "fe862a20",
   "metadata": {},
   "source": [
    "#### collate batch"
   ]
  },
  {
   "cell_type": "code",
   "execution_count": null,
   "id": "ce936928",
   "metadata": {},
   "outputs": [],
   "source": []
  },
  {
   "cell_type": "code",
   "execution_count": null,
   "id": "bf78c0f1",
   "metadata": {},
   "outputs": [],
   "source": [
    "tokens = [\n",
    "    ['cls', 'a', 'b', 'c'],\n",
    "    ['cls', 'd', 'e'],\n",
    "    ['cls', 'f', 'g', 'h', 'i'],\n",
    "]"
   ]
  }
 ],
 "metadata": {
  "kernelspec": {
   "display_name": "research-new",
   "language": "python",
   "name": "python3"
  },
  "language_info": {
   "codemirror_mode": {
    "name": "ipython",
    "version": 3
   },
   "file_extension": ".py",
   "mimetype": "text/x-python",
   "name": "python",
   "nbconvert_exporter": "python",
   "pygments_lexer": "ipython3",
   "version": "3.12.11"
  }
 },
 "nbformat": 4,
 "nbformat_minor": 5
}
